{
 "cells": [
  {
   "cell_type": "code",
   "execution_count": 85,
   "id": "df2be494-c39f-4614-834c-346ae84fef84",
   "metadata": {},
   "outputs": [],
   "source": [
    "from pathlib import Path\n",
    "import csv\n",
    "import pandas as pd"
   ]
  },
  {
   "cell_type": "code",
   "execution_count": 86,
   "id": "b04ad277-306e-4a90-a186-2fe3401691af",
   "metadata": {},
   "outputs": [],
   "source": [
    "csvpath= Path('/Users/ameerirfan/Desktop/FinTech Bootcamp/python-challenge/budget_data.csv')"
   ]
  },
  {
   "cell_type": "code",
   "execution_count": 87,
   "id": "0d855690-c07f-4689-9e77-2c205e235940",
   "metadata": {},
   "outputs": [],
   "source": [
    "month_total = 0\n",
    "revenue_total = 0\n",
    "revenue_previous = 0\n",
    "revenue_chglist = []\n",
    "revenue_avg = 0\n",
    "max_profit = [\"\", 0]\n",
    "max_loss = [\"\", 1000000000]"
   ]
  },
  {
   "cell_type": "code",
   "execution_count": 88,
   "id": "c4762d13-9b3d-42d3-950a-31e68d715a0c",
   "metadata": {},
   "outputs": [],
   "source": [
    "with open(csvpath, 'r') as csvfile:\n",
    "    reader = csv.DictReader(csvfile)\n",
    "\n",
    "    for row in reader:\n",
    "\n",
    "        month_total += 1 \n",
    "        revenue_total = revenue_total + int(row[\"Profit/Losses\"])\n",
    "        \n",
    "        revenue_change = int(row[\"Profit/Losses\"]) - revenue_previous\n",
    "        revenue_previous = int(row[\"Profit/Losses\"])\n",
    "        revenue_chglist = revenue_chglist + [revenue_change]\n",
    "        revenue_avg = sum(revenue_chglist)/len(revenue_chglist)\n",
    "        \n",
    "        \n",
    "        if (revenue_change < max_loss[1]):\n",
    "            max_loss[0] = row[\"Date\"]\n",
    "            max_loss[1] = revenue_change\n",
    "\n",
    "        if (revenue_change > max_profit[1]):\n",
    "            max_profit[0] = row[\"Date\"]\n",
    "            max_profit[1] = revenue_change"
   ]
  },
  {
   "cell_type": "code",
   "execution_count": 89,
   "id": "1a68e166-6301-4472-bbc4-6edc732b2f1d",
   "metadata": {},
   "outputs": [],
   "source": [
    "output_txt = (f\"\\nFinancial Analysis\\n\"\n",
    "              f\"\\n----------------------------\\n\"\n",
    "              f\"\\nTotal Months:{month_total}\\n\"\n",
    "              f\"\\nNet total: {revenue_total}\\n\"\n",
    "              f\"\\nAverage Change: {revenue_avg}\\n\"\n",
    "              f\"\\nGreatest Increase in Profits:{max_profit[0]} (${max_profit[1]})\\n\"\n",
    "              f\"\\nGreatest Decrease in Profits:{max_loss[0]} (${max_loss[1]})\\n\")\n",
    "\n",
    "              \n"
   ]
  },
  {
   "cell_type": "code",
   "execution_count": 90,
   "id": "be075fbb-8b01-4990-ad16-9c9332fbad27",
   "metadata": {},
   "outputs": [
    {
     "name": "stdout",
     "output_type": "stream",
     "text": [
      "\n",
      "Financial Analysis\n",
      "\n",
      "----------------------------\n",
      "\n",
      "Total Months:86\n",
      "\n",
      "Net total: 38382578\n",
      "\n",
      "Average Change: 7803.476744186047\n",
      "\n",
      "Greatest Increase in Profits:Feb-2012 ($1926159)\n",
      "\n",
      "Greatest Decrease in Profits:Sep-2013 ($-2196167)\n",
      "\n"
     ]
    }
   ],
   "source": [
    "print(output_txt)"
   ]
  },
  {
   "cell_type": "code",
   "execution_count": 91,
   "id": "e1a5cdc2-a6f2-42eb-959d-0efb28326451",
   "metadata": {},
   "outputs": [],
   "source": [
    "output_path= Path('/Users/ameerirfan/Desktop/FinTech Bootcamp/python-challenge/budget_data_output.txt')\n",
    "\n",
    "with open(output_path, \"w\") as output_file:\n",
    "    output_file.write(output_txt)"
   ]
  },
  {
   "cell_type": "code",
   "execution_count": null,
   "id": "51e4132a-5e54-4cc3-bbdc-c3bafb57f28e",
   "metadata": {},
   "outputs": [],
   "source": []
  }
 ],
 "metadata": {
  "kernelspec": {
   "display_name": "Python 3 (ipykernel)",
   "language": "python",
   "name": "python3"
  },
  "language_info": {
   "codemirror_mode": {
    "name": "ipython",
    "version": 3
   },
   "file_extension": ".py",
   "mimetype": "text/x-python",
   "name": "python",
   "nbconvert_exporter": "python",
   "pygments_lexer": "ipython3",
   "version": "3.9.12"
  }
 },
 "nbformat": 4,
 "nbformat_minor": 5
}
